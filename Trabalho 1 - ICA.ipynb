{
 "cells": [
  {
   "cell_type": "markdown",
   "metadata": {},
   "source": [
    "Mestrando: Isac Lira <br>\n",
    "Matrícula: 497776 <br>\n",
    "Prof.: Guilherme Barreto"
   ]
  },
  {
   "cell_type": "markdown",
   "metadata": {},
   "source": [
    "# Questão 1\n",
    "(Classificação de Padrões) – Implementar os classificadores MQL (mínimos quadrados linear), Madaline com regra LMS padrão e logística, além da MLP (com 1 e 2 camadas ocultas)para o clássico problema de reconhecimentos de caracteres cursivos (handwritten digit) do MNIST.O banco de dados está disponível no sítio da internet abaixo\n",
    "<br><br>"
   ]
  },
  {
   "cell_type": "code",
   "execution_count": 318,
   "metadata": {},
   "outputs": [],
   "source": [
    "# Imports for deal with arrays\n",
    "import numpy as np\n",
    "import pandas as pd\n",
    "import idx2numpy\n",
    "\n",
    "# Imports for metrics and preprocessing\n",
    "from sklearn.metrics import r2_score\n",
    "from sklearn.metrics import accuracy_score\n",
    "from sklearn.model_selection import train_test_split as split\n",
    "from sklearn.preprocessing import StandardScaler\n",
    "\n",
    "# Import classifiers \n",
    "from classifiers.mlp import MLP1, MLP2\n",
    "from classifiers.adaline_classifier import ADALINEClassifier\n",
    "from classifiers.linear_model import LeastSquareClassifier\n",
    "\n",
    "# Import regression models\n",
    "from regressors.least_square import LeastSquareRegressor\n",
    "from regressors.adaline_regressor import ADALINERegressor\n",
    "from regressors.mlp import build_model, train_model, predict"
   ]
  },
  {
   "cell_type": "markdown",
   "metadata": {},
   "source": [
    "## Step 1:\n",
    "Nas células a seguir é realizado o tratamento dos dados vetorizando as imagens e normalizando pela média e variância. "
   ]
  },
  {
   "cell_type": "code",
   "execution_count": 260,
   "metadata": {},
   "outputs": [],
   "source": [
    "# Read data obtained from http://yann.lecun.com/exdb/mnist/\n",
    "train_images = idx2numpy.convert_from_file(\n",
    "    'DigitData/train-images-idx3-ubyte.idx')\n",
    "train_labels = idx2numpy.convert_from_file(\n",
    "    'DigitData/train-labels-idx1-ubyte.idx')\n",
    "test_images = idx2numpy.convert_from_file(\n",
    "    'DigitData/t10k-images-idx3-ubyte.idx')\n",
    "test_labels = idx2numpy.convert_from_file(\n",
    "    'DigitData/t10k-labels-idx1-ubyte.idx')"
   ]
  },
  {
   "cell_type": "code",
   "execution_count": 265,
   "metadata": {},
   "outputs": [],
   "source": [
    "# Reshape images to vectors\n",
    "train_vetors = train_images.reshape(train_images.shape[0], -1)\n",
    "test_vetors = test_images.reshape(test_images.shape[0], -1)\n",
    "\n",
    "# Normalize vectors\n",
    "norm_train_vetors = (train_vetors - np.mean(train_vetors))/np.std(train_vetors)\n",
    "norm_test_vetors = (test_vetors - np.mean(train_vetors))/np.std(train_vetors)"
   ]
  },
  {
   "cell_type": "code",
   "execution_count": 266,
   "metadata": {},
   "outputs": [],
   "source": [
    "X_train, y_train = norm_train_vetors, train_labels\n",
    "X_test, y_test = norm_test_vetors, test_labels"
   ]
  },
  {
   "cell_type": "markdown",
   "metadata": {},
   "source": [
    "## Step 2:\n",
    "Após o tratamento dos dados, os modelos são treinados e avaliados usando conjunto de teste disponibilizado. O modelo MLP com uma cada oculta possui 100 neurônios e foi treinado por 20 épocas com uma taxa de aprendizagem de 0.1, já o modelo com 2 camadas ocultas possui 100 neurônios em cada camada e foi treinado por 50 épocas com a mesma taxa de aprendizagem anterior. \n",
    "\n",
    "O modelo ADALINE foi treinado com uma taxa de aprendizagem alpha de 0.001 durante 10 épocas. Todas as implementações estão em anexo."
   ]
  },
  {
   "cell_type": "code",
   "execution_count": 268,
   "metadata": {},
   "outputs": [
    {
     "name": "stdout",
     "output_type": "stream",
     "text": [
      "Training model adaline_clf\n",
      "Training model ls_clf\n",
      "Training model mlp1\n",
      "Training model mlp2\n"
     ]
    }
   ],
   "source": [
    "# Set models\n",
    "\n",
    "models = {\n",
    "    'adaline_clf': ADALINEClassifier(),\n",
    "    'ls_clf': LeastSquareClassifier(),\n",
    "    'mlp1': MLP1(hidden_neurons=100,\n",
    "              epoches=20,\n",
    "              eta=0.1),\n",
    "    'mlp2': MLP2(layers_size=(100, 100),\n",
    "              epoches=50,\n",
    "              eta=0.1)\n",
    "}\n",
    "\n",
    "results = {}\n",
    "for model_name, clf in models.items():\n",
    "    print(f'Training model {model_name}')    \n",
    "    # Fit model\n",
    "    clf.fit(X_train, y_train)\n",
    "    # Compute accuray score on Test set\n",
    "    results[model_name] = round(accuracy_score(y_test, clf.predict(X_test)), 2)"
   ]
  },
  {
   "cell_type": "code",
   "execution_count": 309,
   "metadata": {},
   "outputs": [],
   "source": [
    "# Create a dataframe with the results\n",
    "df = pd.DataFrame(pd.Series(results), \n",
    "             columns=['Accuracy'])\\\n",
    "       .reset_index()\\\n",
    "       .rename(columns={'index': 'Model'})\n",
    "df['Model']= df['Model'].map({\n",
    "    'adaline_clf': 'ADALINE Classify',\n",
    "    'ls_clf': 'Linear Least Square',\n",
    "    'mlp1': 'MLP (1 hidden layer)',\n",
    "    'mlp2': 'MLP (2 hidden layer)'\n",
    "})"
   ]
  },
  {
   "cell_type": "markdown",
   "metadata": {},
   "source": [
    "## Step 3: Resultados"
   ]
  },
  {
   "cell_type": "code",
   "execution_count": 304,
   "metadata": {},
   "outputs": [
    {
     "data": {
      "text/html": [
       "<div>\n",
       "<style scoped>\n",
       "    .dataframe tbody tr th:only-of-type {\n",
       "        vertical-align: middle;\n",
       "    }\n",
       "\n",
       "    .dataframe tbody tr th {\n",
       "        vertical-align: top;\n",
       "    }\n",
       "\n",
       "    .dataframe thead th {\n",
       "        text-align: right;\n",
       "    }\n",
       "</style>\n",
       "<table border=\"1\" class=\"dataframe\">\n",
       "  <thead>\n",
       "    <tr style=\"text-align: right;\">\n",
       "      <th></th>\n",
       "      <th>Model</th>\n",
       "      <th>Accuracy</th>\n",
       "    </tr>\n",
       "  </thead>\n",
       "  <tbody>\n",
       "    <tr>\n",
       "      <th>0</th>\n",
       "      <td>ADALINE Classify</td>\n",
       "      <td>0.85</td>\n",
       "    </tr>\n",
       "    <tr>\n",
       "      <th>1</th>\n",
       "      <td>Linear Least Square</td>\n",
       "      <td>0.86</td>\n",
       "    </tr>\n",
       "    <tr>\n",
       "      <th>2</th>\n",
       "      <td>MLP (1 hidden layer)</td>\n",
       "      <td>0.97</td>\n",
       "    </tr>\n",
       "    <tr>\n",
       "      <th>3</th>\n",
       "      <td>MLP (2 hidden layer)</td>\n",
       "      <td>0.98</td>\n",
       "    </tr>\n",
       "  </tbody>\n",
       "</table>\n",
       "</div>"
      ],
      "text/plain": [
       "                  Model  Accuracy\n",
       "0      ADALINE Classify      0.85\n",
       "1   Linear Least Square      0.86\n",
       "2  MLP (1 hidden layer)      0.97\n",
       "3  MLP (2 hidden layer)      0.98"
      ]
     },
     "execution_count": 304,
     "metadata": {},
     "output_type": "execute_result"
    }
   ],
   "source": [
    "# Perfomance on test set\n",
    "df"
   ]
  },
  {
   "cell_type": "markdown",
   "metadata": {},
   "source": [
    "Podemos observar que os modelos MLP de 1 e 2 camadas ocultas alcançam peformances maiores que os modelos ADALINE e Linear Least Square, justificando sua maior complexidade."
   ]
  },
  {
   "cell_type": "markdown",
   "metadata": {},
   "source": [
    "# Questão 2"
   ]
  },
  {
   "cell_type": "markdown",
   "metadata": {},
   "source": [
    "(Regressão e Ajuste de Curvas) – Implementar os modelos de regressão linear múltipla de mínimos quadrados, rede Adaline e rede MLP (1 e 2 camadas ocultas) ao seguinte conjunto de dados:\n",
    "<br><br>"
   ]
  },
  {
   "cell_type": "markdown",
   "metadata": {},
   "source": [
    "## Step 1: Processamento dos Dados\n",
    "O dataset contém apenas 414 amostras e 7 variáveis dependentes. As variáveis `X1 transaction date` e `No` foram removidas do dataset e nenhuma etapa de engenharia de features foi realizada. Como etapa de preprocessamento, os dados foram normalizados pela média e variância."
   ]
  },
  {
   "cell_type": "code",
   "execution_count": 315,
   "metadata": {},
   "outputs": [],
   "source": [
    "# Read real state data\n",
    "real_state_data = pd.read_excel(\"real_state_data2.xlsx\")"
   ]
  },
  {
   "cell_type": "code",
   "execution_count": 335,
   "metadata": {},
   "outputs": [
    {
     "name": "stdout",
     "output_type": "stream",
     "text": [
      "<class 'pandas.core.frame.DataFrame'>\n",
      "RangeIndex: 414 entries, 0 to 413\n",
      "Data columns (total 8 columns):\n",
      " #   Column                                  Non-Null Count  Dtype  \n",
      "---  ------                                  --------------  -----  \n",
      " 0   No                                      414 non-null    int64  \n",
      " 1   X1 transaction date                     414 non-null    float64\n",
      " 2   X2 house age                            414 non-null    float64\n",
      " 3   X3 distance to the nearest MRT station  414 non-null    float64\n",
      " 4   X4 number of convenience stores         414 non-null    int64  \n",
      " 5   X5 latitude                             414 non-null    float64\n",
      " 6   X6 longitude                            414 non-null    float64\n",
      " 7   Y house price of unit area              414 non-null    float64\n",
      "dtypes: float64(6), int64(2)\n",
      "memory usage: 26.0 KB\n"
     ]
    }
   ],
   "source": [
    "real_state_data.info()"
   ]
  },
  {
   "cell_type": "code",
   "execution_count": 316,
   "metadata": {},
   "outputs": [],
   "source": [
    "# Clean the dataframe\n",
    "data = real_state_data.drop(columns=['No'])\n",
    "columns = list(data.columns)\n",
    "map_cols = {c:c.split(' ')[0] for c in columns}\n",
    "\n",
    "data = data.rename(columns=map_cols)"
   ]
  },
  {
   "cell_type": "code",
   "execution_count": 319,
   "metadata": {},
   "outputs": [],
   "source": [
    "# Split in train and test\n",
    "X, y = data.drop(['X1', 'Y'], axis=1).values, data['Y'].values\n",
    "X_train, X_test, y_train, y_test = split(X, y, train_size=0.9)\n",
    "\n",
    "# Normalize training data by mean and std\n",
    "scaler = StandardScaler()\n",
    "\n",
    "X_train = scaler.fit_transform(X_train)\n",
    "X_test = scaler.transform(X_test)"
   ]
  },
  {
   "cell_type": "markdown",
   "metadata": {},
   "source": [
    "## Step 2: Treinamento dos Modelos"
   ]
  },
  {
   "cell_type": "markdown",
   "metadata": {},
   "source": [
    "O modelo ADALINE foi treinado usando um passo `alpha` de 0.01 e 100 épocas de treinamento.\n",
    "Os modelos MLP de regressão foram implementados usando Pytorch e estão disponibilizados em anexo. Para o modelo MLP de 1 camada oculta utilizou-se 200 neurônios e os pesos são otimizados usando `Adam` com 100 épocas e um batch size de 20 amostras. Para o modelo de 2 camadas, utilizou-se 100 neurônios em cada camada e 200 épocas treinamento.\n",
    "\n",
    "Dividiu-se os dados em 90% para treino e 10% para teste onde o modelo foi avaliado computando o score R2."
   ]
  },
  {
   "cell_type": "code",
   "execution_count": 320,
   "metadata": {},
   "outputs": [
    {
     "name": "stdout",
     "output_type": "stream",
     "text": [
      "Training model ADALINE Regressor\n",
      "Training model Least Square Regressor\n",
      "Training model 1-NN\n",
      "Training model 2-NN\n"
     ]
    }
   ],
   "source": [
    "# Train regressor models\n",
    "\n",
    "model_labels = {}\n",
    "models = {\n",
    "    'ADALINE Regressor': ADALINERegressor(alpha=0.01, epoches=100),\n",
    "    'Least Square Regressor': LeastSquareRegressor(),\n",
    "    '1-NN': None,\n",
    "    '2-NN': None,\n",
    "}\n",
    "\n",
    "results = {}\n",
    "for model_name, regressor in models.items():\n",
    "    print(f'Training model {model_name}')\n",
    "    if model_name == '1-NN':\n",
    "        \n",
    "        mlp = build_model(n_feats=X_train.shape[1],\n",
    "                          layers_size=[200])\n",
    "        train_model(X=X_train,\n",
    "                    y=y_train,\n",
    "                    model=mlp,\n",
    "                    epoches=100,\n",
    "                    batch_size=20)\n",
    "\n",
    "        results[model_name] = r2_score(y_test, predict(X_test, mlp))\n",
    "        \n",
    "    elif model_name == '2-NN':\n",
    "        mlp = build_model(n_feats=X_train.shape[1],\n",
    "                          layers_size=[100, 100])\n",
    "        train_model(X=X_train,\n",
    "                    y=y_train,\n",
    "                    model=mlp,\n",
    "                    epoches=200,\n",
    "                    batch_size=20)\n",
    "\n",
    "        results[model_name] = r2_score(y_test, predict(X_test, mlp))\n",
    "        \n",
    "    else:\n",
    "        regressor.fit(X_train, y_train)\n",
    "        results[model_name] = r2_score(y_test, regressor.predict(X_test))"
   ]
  },
  {
   "cell_type": "code",
   "execution_count": 328,
   "metadata": {},
   "outputs": [
    {
     "data": {
      "text/html": [
       "<div>\n",
       "<style scoped>\n",
       "    .dataframe tbody tr th:only-of-type {\n",
       "        vertical-align: middle;\n",
       "    }\n",
       "\n",
       "    .dataframe tbody tr th {\n",
       "        vertical-align: top;\n",
       "    }\n",
       "\n",
       "    .dataframe thead th {\n",
       "        text-align: right;\n",
       "    }\n",
       "</style>\n",
       "<table border=\"1\" class=\"dataframe\">\n",
       "  <thead>\n",
       "    <tr style=\"text-align: right;\">\n",
       "      <th></th>\n",
       "      <th>Model</th>\n",
       "      <th>R2 Score</th>\n",
       "    </tr>\n",
       "  </thead>\n",
       "  <tbody>\n",
       "    <tr>\n",
       "      <th>0</th>\n",
       "      <td>ADALINE Regressor</td>\n",
       "      <td>0.754030</td>\n",
       "    </tr>\n",
       "    <tr>\n",
       "      <th>1</th>\n",
       "      <td>Least Square Regressor</td>\n",
       "      <td>0.749548</td>\n",
       "    </tr>\n",
       "    <tr>\n",
       "      <th>2</th>\n",
       "      <td>1-NN</td>\n",
       "      <td>0.783041</td>\n",
       "    </tr>\n",
       "    <tr>\n",
       "      <th>3</th>\n",
       "      <td>2-NN</td>\n",
       "      <td>0.803900</td>\n",
       "    </tr>\n",
       "  </tbody>\n",
       "</table>\n",
       "</div>"
      ],
      "text/plain": [
       "                    Model  R2 Score\n",
       "0       ADALINE Regressor  0.754030\n",
       "1  Least Square Regressor  0.749548\n",
       "2                    1-NN  0.783041\n",
       "3                    2-NN  0.803900"
      ]
     },
     "execution_count": 328,
     "metadata": {},
     "output_type": "execute_result"
    }
   ],
   "source": [
    "# Create a dataframe with the results\n",
    "df = pd.DataFrame(pd.Series(results), \n",
    "             columns=['R2 Score'])\\\n",
    "       .reset_index()\\\n",
    "       .rename(columns={'index': 'Model'})\n",
    "df"
   ]
  },
  {
   "cell_type": "markdown",
   "metadata": {},
   "source": [
    "Devido a maior complexidade do modelo MPL com 2 camadas, houve uma maior performance desse modelo para estimar os valores de teste."
   ]
  }
 ],
 "metadata": {
  "kernelspec": {
   "display_name": "Python 3",
   "language": "python",
   "name": "python3"
  },
  "language_info": {
   "codemirror_mode": {
    "name": "ipython",
    "version": 3
   },
   "file_extension": ".py",
   "mimetype": "text/x-python",
   "name": "python",
   "nbconvert_exporter": "python",
   "pygments_lexer": "ipython3",
   "version": "3.6.8"
  }
 },
 "nbformat": 4,
 "nbformat_minor": 4
}
